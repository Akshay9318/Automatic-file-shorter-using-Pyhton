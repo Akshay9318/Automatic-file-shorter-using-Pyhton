{
 "cells": [
  {
   "cell_type": "code",
   "execution_count": 14,
   "id": "a9b61e7d-4a6d-4fd5-9818-b4cd96803342",
   "metadata": {},
   "outputs": [],
   "source": [
    "import os,shutil\n",
    "path=r\"D:/Python tutorial/\""
   ]
  },
  {
   "cell_type": "code",
   "execution_count": 15,
   "id": "13553f47-9778-4dc5-b21f-cf56c5dc0a33",
   "metadata": {},
   "outputs": [],
   "source": [
    "file_name=os.listdir(path)"
   ]
  },
  {
   "cell_type": "code",
   "execution_count": 16,
   "id": "2d1c610a-02cb-4274-9056-5956a0b143b9",
   "metadata": {},
   "outputs": [],
   "source": [
    "folder_name=['csv files' , 'image files', 'text files']"
   ]
  },
  {
   "cell_type": "code",
   "execution_count": 17,
   "id": "a6d19d27-49fe-4fbd-ba5d-900d22cbc244",
   "metadata": {},
   "outputs": [],
   "source": [
    "for loop in range(0,3):\n",
    "    if not os.path.exists(path+folder_name[loop]):\n",
    "        print(path+folder_name[loop])\n",
    "        os.makedirs(path+folder_name[loop])\n",
    "for file in file_name:\n",
    "    if \".csv\" in file and not os.path.exists(path+\"csv files/\"+file):\n",
    "        shutil.move(path+file,path+\"csv files/\"+file)\n",
    "    elif \".txt\" in file and not os.path.exists(path+\"text files/\"+file):\n",
    "        shutil.move(path+file,path+\"text files/\"+file)\n",
    "    elif \".jpg\" in file and not os.path.exists(path+\"image files/\"+file):\n",
    "        shutil.move(path+file,path+\"image files/\"+file)\n",
    " "
   ]
  },
  {
   "cell_type": "code",
   "execution_count": 12,
   "id": "518e51d3-9fcd-427e-9489-c2d52d5cdd8d",
   "metadata": {},
   "outputs": [],
   "source": []
  },
  {
   "cell_type": "code",
   "execution_count": null,
   "id": "9df72144-da20-44e2-b58a-9db5982a0430",
   "metadata": {},
   "outputs": [],
   "source": []
  }
 ],
 "metadata": {
  "kernelspec": {
   "display_name": "Python 3 (ipykernel)",
   "language": "python",
   "name": "python3"
  },
  "language_info": {
   "codemirror_mode": {
    "name": "ipython",
    "version": 3
   },
   "file_extension": ".py",
   "mimetype": "text/x-python",
   "name": "python",
   "nbconvert_exporter": "python",
   "pygments_lexer": "ipython3",
   "version": "3.11.7"
  }
 },
 "nbformat": 4,
 "nbformat_minor": 5
}
